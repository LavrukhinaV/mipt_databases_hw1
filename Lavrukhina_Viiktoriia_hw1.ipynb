{
 "cells": [
  {
   "cell_type": "markdown",
   "metadata": {},
   "source": [
    "### **Задание 1.** Продумать структуру базы данных и отрисовать в редакторе."
   ]
  },
  {
   "cell_type": "code",
   "execution_count": null,
   "metadata": {
    "vscode": {
     "languageId": "plaintext"
    }
   },
   "outputs": [],
   "source": [
    "Table location {\n",
    "  location_id integer [primary key]\n",
    "  postcode integer\n",
    "  state text\n",
    "  country text\n",
    "}\n",
    "\n",
    "Table customer {\n",
    "  customer_id integer [primary key]\n",
    "  first_name varchar(50)\n",
    "  last_name varchar(50)\n",
    "  gender varchar(10)\n",
    "  DOB date\n",
    "  job_title text\n",
    "  job_industry_category varchar(100)\n",
    "  wealth_segment varchar(50)\n",
    "  deceased_indicator bool\n",
    "  owns_car bool\n",
    "  address text\n",
    "  location_id integer\n",
    "  property_valuation numeric\n",
    "}\n",
    "\n",
    "Table product {\n",
    "  product_id integer [primary key]\n",
    "  brand varchar(50)\n",
    "  product_line varchar(50)\n",
    "  product_class varchar(50)\n",
    "  product_size varchar(10)\n",
    "  list_price numeric(10,2)\n",
    "  standard_cost numeric(10,2)\n",
    "}\n",
    "\n",
    "Table transaction {\n",
    "  transaction_id integer [primary key]\n",
    "  product_id integer\n",
    "  customer_id integer\n",
    "  transaction_date dtae\n",
    "  online_order bool\n",
    "  order_status varchar(20)\n",
    "}\n",
    "\n",
    "// Define relationships\n",
    "Ref: transaction.product_id > product.product_id\n",
    "Ref: transaction.customer_id > customer.customer_id\n",
    "Ref: customer.location_id > location.location_id"
   ]
  },
  {
   "cell_type": "markdown",
   "metadata": {},
   "source": [
    "![Сustomer and transaction db](customer_and_transaction_db.png)"
   ]
  },
  {
   "cell_type": "markdown",
   "metadata": {},
   "source": [
    "### **Задание 2.** Нормализовать базу данных (1НФ — 3НФ), описав, к какой нормальной форме приводится таблица и почему таблица в этой нормальной форме изначально не находилась.\n",
    "\n",
    "**Почему таблица изначально не соответствовала 3НФ?**\n",
    "- В Transactions была частичная зависимость данных о продукте от product_id, что нарушало 2НФ.\n",
    "- В Customers была транзитивная зависимость state и country от postcode, что нарушало 3НФ.\n",
    "\n",
    "**Нормализация (1НФ → 3НФ)**\n",
    "1. В таблице Transactions атрибуты brand, product_line, product_class, product_size, list_price, standard_cost зависят только от product_id, а не от всей транзакции.\n",
    "Решение: вынести эти данные в отдельную таблицу Products, а в Transactions оставить только product_id. Вынесение продуктов в Products устраняет нарушение 2НФ.\n",
    "2. В таблице Customers поле postcode зависит от address, а state и country — от postcode. Это транзитивные зависимости.\n",
    "Решение: вынести postcode, state, country в отдельную таблицу Locations. Вынесение местоположений в Locations устраняет нарушение 3НФ.\n",
    "\n",
    "**Теперь база данных нормализована, соответствует 3НФ и состоит из четырех взаимосвязанных таблиц:**\n",
    "- Customers (информация о клиентах)\n",
    "- Products (информация о продуктах)\n",
    "- Transactions (записи о покупках)\n",
    "- Locations (информация о местоположениях)\n"
   ]
  },
  {
   "cell_type": "markdown",
   "metadata": {},
   "source": [
    "### **Задание 3.** Создать все таблицы в DBeaver, указав первичные ключи к таблицам, правильные типы данных, могут ли поля быть пустыми или нет (использовать команду CREATE TABLE)."
   ]
  },
  {
   "cell_type": "code",
   "execution_count": null,
   "metadata": {
    "vscode": {
     "languageId": "plaintext"
    }
   },
   "outputs": [],
   "source": [
    "CREATE TABLE location (\n",
    "    location_id INTEGER PRIMARY KEY,\n",
    "    postcode INTEGER NOT NULL, \n",
    "    state TEXT NOT NULL, \n",
    "    country TEXT NOT NULL\n",
    ");\n",
    "\n",
    "CREATE TABLE customer (\n",
    "    customer_id INTEGER PRIMARY KEY, \n",
    "    first_name VARCHAR(50) NOT NULL, \n",
    "    last_name VARCHAR(50), \n",
    "    gender VARCHAR(10) NOT NULL,\n",
    "    DOB DATE, \n",
    "    job_title TEXT, \n",
    "    job_industry_category VARCHAR(100), \n",
    "    wealth_segment VARCHAR(50), \n",
    "    deceased_indicator BOOLEAN NOT NULL DEFAULT FALSE, \n",
    "    owns_car BOOLEAN NOT NULL DEFAULT FALSE, \n",
    "    address TEXT NOT NULL, \n",
    "    location_id INTEGER NOT NULL,\n",
    "    property_valuation NUMERIC\n",
    ");\n",
    "\n",
    "CREATE TABLE product (\n",
    "    product_id INTEGER PRIMARY KEY, \n",
    "    brand VARCHAR(50), \n",
    "    product_line VARCHAR(50), \n",
    "    product_class VARCHAR(50), \n",
    "    product_size VARCHAR(10), \n",
    "    list_price NUMERIC(10,2) NOT NULL, \n",
    "    standard_cost NUMERIC(10,2)\n",
    ");\n",
    "\n",
    "CREATE TABLE transaction (\n",
    "    transaction_id INTEGER PRIMARY KEY, \n",
    "    product_id INTEGER NOT NULL, \n",
    "    customer_id INTEGER NOT NULL, \n",
    "    transaction_date DATE NOT NULL, \n",
    "    online_order BOOLEAN NOT NULL DEFAULT FALSE, \n",
    "    order_status VARCHAR(20) NOT NULL\n",
    ");"
   ]
  },
  {
   "cell_type": "markdown",
   "metadata": {},
   "source": [
    "### **Задание 4.** Загрузить данные в таблицы в соответствии с созданной структурой (использовать команду INSERT INTO или загрузить файлы, используя возможности инструмента DBeaver; в случае загрузки файлами приложить скрины, что данные действительно были залиты)."
   ]
  },
  {
   "cell_type": "code",
   "execution_count": null,
   "metadata": {
    "vscode": {
     "languageId": "plaintext"
    }
   },
   "outputs": [],
   "source": [
    "INSERT INTO location (location_id, postcode, state, country)\n",
    "VALUES\n",
    "(1, 2016, 'New South Wales', 'Australia'),\n",
    "(2, 2153, 'New South Wales', 'Australia'),\n",
    "(3, 4211, 'QLD', 'Australia'),\n",
    "(4, 2448, 'New South Wales', 'Australia'),\n",
    "(5, 3216, 'VIC', 'Australia'),\n",
    "(6, 2210, 'New South Wales', 'Australia'),\n",
    "(7, 2650, 'New South Wales', 'Australia'),\n",
    "(8, 2023, 'New South Wales', 'Australia'),\n",
    "(9, 3044, 'VIC', 'Australia'),\n",
    "(10, 4557, 'QLD', 'Australia'),\n",
    "(11, 3799, 'VIC', 'Australia');\n",
    "\n",
    "INSERT INTO customer (customer_id, first_name, last_name, gender, DOB, job_title, job_industry_category, wealth_segment, deceased_indicator, owns_car, address, location_id, property_valuation)\n",
    "VALUES\n",
    "(1, 'Laraine', 'Medendorp', 'F', '1953-10-12', 'Executive Secretary', 'Health', 'Mass Customer', FALSE, TRUE, '060 Morning Avenue', 1, 10),\n",
    "(2, 'Eli', 'Bockman', 'Male', '1980-12-16', 'Administrative Officer', 'Financial Services', 'Mass Customer', FALSE, TRUE, '6 Meadow Vale Court', 2, 10),\n",
    "(3, 'Arlin', 'Dearle', 'Male', '1954-01-20', 'Recruiting Manager', 'Property', 'Mass Customer', FALSE, TRUE, '0 Holy Cross Court', 3, 9),\n",
    "(4, 'Talbot', NULL, 'Male', '1961-10-03', NULL, 'IT', 'Mass Customer', FALSE, FALSE, '17979 Del Mar Point', 4, 4),\n",
    "(5, 'Sheila-kathryn', 'Calton', 'Female', '1977-05-13', 'Senior Editor', 'n/a', 'Affluent Customer', FALSE, TRUE, '9 Oakridge Court', 5, 9),\n",
    "(6, 'Curr', 'Duckhouse', 'Male', '1966-09-16', NULL, 'Retail', 'High Net Worth', FALSE, TRUE, '4 Delaware Trail', 6, 9),\n",
    "(7, 'Fina', 'Merali', 'Female', '1976-02-23', NULL, 'Financial Services', 'Affluent Customer', FALSE, TRUE, '49 Londonderry Lane', 7, 4),\n",
    "(8, 'Rod', 'Inder', 'Male', '1962-03-30', 'Media Manager I', 'n/a', 'Mass Customer', FALSE, FALSE, '97736 7th Trail', 8, 12),\n",
    "(9, 'Mala', 'Lind', 'Female', '1973-03-10', 'Business Systems Development Analyst', 'Argiculture', 'Affluent Customer', FALSE, TRUE, '93405 Ludington Park', 9, 8),\n",
    "(10, 'Fiorenze', 'Birdall', 'Female', '1988-10-11', 'Senior Quality Engineer', 'Financial Services', 'Mass Customer', FALSE, TRUE, '44339 Golden Leaf Alley', 10, 4),\n",
    "(11, 'Uriah', 'Bisatt', 'Male', '1954-04-30', NULL, 'Property', 'Mass Customer', FALSE, FALSE, '2 Sutherland Street', 11, 6);\n",
    "\n",
    "INSERT INTO product (product_id, brand, product_line, product_class, product_size, list_price, standard_cost)\n",
    "VALUES\n",
    "(2, 'Solex', 'Standard', 'medium', 'medium', 71.49, 53.62),\n",
    "(3, 'Trek Bicycles', 'Standard', 'medium', 'large', 2091.47, 388.92),\n",
    "(37, 'OHM Cycles', 'Standard', 'low', 'medium', 1793.43, 248.82),\n",
    "(88, 'Norco Bicycles', 'Standard', 'medium', 'medium', 1198.46, 381.10),\n",
    "(78, 'Giant Bicycles', 'Standard', 'medium', 'large', 1765.3, 709.48),\n",
    "(25, 'Giant Bicycles', 'Road', 'medium', 'medium', 1538.99, 829.65),\n",
    "(22, 'WeareA2B', 'Standard', 'medium', 'medium', 60.34, 45.26),\n",
    "(15, 'WeareA2B', 'Standard', 'medium', 'medium', 1292.84, 13.44),\n",
    "(67, 'Solex', 'Standard', 'medium', 'large', 1071.23, 380.74),\n",
    "(12, 'WeareA2B', 'Standard', 'medium', 'medium', 1231.15, 161.60);\n",
    "\n",
    "INSERT INTO transaction (transaction_id, product_id, customer_id, transaction_date, online_order, order_status)\n",
    "VALUES\n",
    "(1, 2, 2950, '2017-02-25', FALSE, 'Approved'),\n",
    "(2, 3, 3120, '2017-05-21', TRUE, 'Approved'),\n",
    "(3, 37, 402, '2017-10-16', FALSE, 'Approved'),\n",
    "(4, 88, 3135, '2017-08-31', FALSE, 'Approved'),\n",
    "(5, 78, 787, '2017-10-01', TRUE, 'Approved'),\n",
    "(6, 25, 2339, '2017-03-08', TRUE, 'Approved'),\n",
    "(7, 22, 1542, '2017-04-21', TRUE, 'Approved'),\n",
    "(8, 15, 2459, '2017-07-15', FALSE, 'Approved'),\n",
    "(9, 67, 1305, '2017-08-10', FALSE, 'Approved'),\n",
    "(10, 12, 3262, '2017-08-30', TRUE, 'Approved');\n"
   ]
  }
 ],
 "metadata": {
  "language_info": {
   "name": "python"
  }
 },
 "nbformat": 4,
 "nbformat_minor": 2
}
